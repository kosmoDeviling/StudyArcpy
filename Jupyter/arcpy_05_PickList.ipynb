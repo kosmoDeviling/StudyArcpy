{
 "cells": [
  {
   "cell_type": "code",
   "execution_count": null,
   "metadata": {},
   "outputs": [],
   "source": [
    "import arcpy\n",
    "\n",
    "arcpy.env.overwriteOutput = True\n",
    "\n",
    "arcpy.env.workspace = r\"D:\\00-Learning\\02-GisDev\\01-ArcPy\\Projects\" \\\n",
    "                      r\"\\FrameworkProject\" \\\n",
    "                      r\"\\FrameworkProject.gdb\"\n",
    "\n",
    "# using pick list to get the country name\n",
    "countryName = arcpy.GetParameterAsText(0)\n",
    "\n",
    "arcpy.analysis.Select(\n",
    "    r\"D:\\00-Learning\\02-GisDev\\01-ArcPy\\LPA\\Data\\ne_10m_admin_0_countries.shp\",\n",
    "    r\"SelCountry\",\n",
    "    f\"NAME = '{countryName}'\"\n",
    ")\n",
    "\n",
    "arcpy.analysis.Buffer(\n",
    "    \"SelCountry\",\n",
    "    \"SelCountry_Buffer\",\n",
    "    \"200 Kilometers\",\n",
    "    \"FULL\",\n",
    "    \"ROUND\",\n",
    "    \"NONE\",\n",
    "    None,\n",
    "    \"PLANAR\"\n",
    ")\n",
    "arcpy.analysis.Clip(\n",
    "    r\"D:\\00-Learning\\02-GisDev\\01-ArcPy\\LPA\\Data\\ne_10m_populated_places.shp\",\n",
    "    \"SelCountry_Buffer\",\n",
    "    \"Places_Clip\",\n",
    "    None\n",
    ")\n",
    "\n",
    "# show the message in the tool\n",
    "arcpy.AddMessage(\n",
    "    f'There are {arcpy.management.GetCount(\"Places_Clip\")} in or whithin '\n",
    "    f'200km of {countryName}'\n",
    ")\n"
   ]
  }
 ],
 "metadata": {
  "language_info": {
   "name": "python"
  },
  "orig_nbformat": 4
 },
 "nbformat": 4,
 "nbformat_minor": 2
}
