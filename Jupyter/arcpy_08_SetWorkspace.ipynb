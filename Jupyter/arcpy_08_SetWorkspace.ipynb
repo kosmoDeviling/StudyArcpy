{
 "cells": [
  {
   "cell_type": "code",
   "execution_count": null,
   "metadata": {},
   "outputs": [],
   "source": [
    "import arcpy\n",
    "\n",
    "arcpy.env.overwriteOutput = True\n",
    "\n",
    "print(arcpy.env.workspace)\n",
    "# Set a workspace \n",
    "arcpy.env.workspace = r\"D:\\00-Learning\\02-GisDev\\01-ArcPy\\Projects\\EnvProject\\Test.gdb\"\n",
    "\n",
    "print(arcpy.env.workspace)\n",
    "\n",
    "# Copy/export Feature Class\n",
    "arcpy.FeatureClassToFeatureClass_conversion(\n",
    "    r\"D:\\00-Learning\\02-GisDev\\01-ArcPy\\LPA\\Data\\ne_10m_admin_0_countries.shp\",\n",
    "    r\"D:\\00-Learning\\02-GisDev\\01-ArcPy\\Projects\\EnvProject\\Test.gdb\",\n",
    "    \"Countries\"\n",
    ")\n",
    "\n",
    "# Select \n",
    "arcpy.Select_analysis(\"Countries\", \"TrinidadTobago\", \"NAME = 'Trinidad and Tobago'\")\n",
    "print(arcpy.Exists(\"TrinidadTobago\"))\n",
    "\n",
    "# Check if a FC exists\n",
    "print(arcpy.Exists(r\"D:\\00-Learning\\02-GisDev\\01-ArcPy\\Projects\\EnvProject\\Test.gdb\\Countries\"))\n",
    "\n",
    "arcpy.Buffer_analysis(\n",
    "    \"TrinidadTobago\", \n",
    "    \"TrinidadTobago_EEZ\",\n",
    "    \"200 NauticalMiles\",\n",
    "    method=\"GEODESIC\"\n",
    ")\n",
    "print(arcpy.Exists(r\"D:\\00-Learning\\02-GisDev\\01-ArcPy\\Projects\\EnvProject\\Test.gdb\\TrinidadTobago_EEZ\"))\n",
    "\n",
    "print('\\nScript Completed')\n",
    "    "
   ]
  }
 ],
 "metadata": {
  "language_info": {
   "name": "python"
  },
  "orig_nbformat": 4
 },
 "nbformat": 4,
 "nbformat_minor": 2
}
