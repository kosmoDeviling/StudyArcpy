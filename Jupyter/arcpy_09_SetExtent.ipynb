{
 "cells": [
  {
   "cell_type": "code",
   "execution_count": null,
   "metadata": {},
   "outputs": [],
   "source": [
    "import arcpy\n",
    "\n",
    "arcpy.env.overwriteOutput = True\n",
    "\n",
    "# Set a workspace \n",
    "arcpy.env.workspace = r\"D:\\00-Learning\\02-GisDev\\01-ArcPy\\Projects\\EnvProject\\Test.gdb\"\n",
    "\n",
    "# Copy/export Feature Class\n",
    "arcpy.FeatureClassToFeatureClass_conversion(\n",
    "    r\"D:\\00-Learning\\02-GisDev\\01-ArcPy\\LPA\\Data\\ne_10m_admin_1_states_provinces.shp\",\n",
    "    r\"D:\\00-Learning\\02-GisDev\\01-ArcPy\\Projects\\EnvProject\\Test.gdb\",\n",
    "    \"States\"\n",
    ")\n",
    "\n",
    "print(arcpy.GetCount_management(\"States\"))\n",
    "\n",
    "arcpy.env.extent = \"TrinidadTobago_EEZ\"\n",
    "\n",
    "arcpy.CopyFeatures_management(\n",
    "    \"States\",\n",
    "    \"StatesInExtent\"\n",
    ")\n",
    "\n",
    "print(arcpy.GetCount_management(\"StatesInExtent\"))\n",
    "\n",
    "print('\\nScript Completed')\n",
    "    "
   ]
  }
 ],
 "metadata": {
  "language_info": {
   "name": "python"
  },
  "orig_nbformat": 4
 },
 "nbformat": 4,
 "nbformat_minor": 2
}
